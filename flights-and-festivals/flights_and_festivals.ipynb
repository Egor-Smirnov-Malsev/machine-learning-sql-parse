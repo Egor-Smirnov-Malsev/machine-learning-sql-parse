{
 "cells": [
  {
   "cell_type": "markdown",
   "metadata": {},
   "source": [
    "# Исследование авиарейсов.\n",
    "____\n",
    "\n",
    "### В данном исследовании анализируются авиарейсы внутри России.\n",
    "____\n",
    "\n",
    "### Исследование разделено на несколько частей.\n",
    "\n",
    "#### [Часть 1. Подготовка к исследованию и изучение общей информации:](#1)\n",
    "\n",
    "* [1. Импорт библиотек.](#1.1)\n",
    "* [2. Получение и изучение общей информации о данных.](#1.2)\n",
    "\n",
    "#### [Часть 2. Исследовательский анализ данных:](#2)\n",
    "\n",
    "* [1. Топ 10 городов по количеству авиарейсов.](#2.1)\n",
    "* [2. Зависимость количества авиарейсов от модели самолета.](#2.2)\n",
    "* [3. Зависимость количества авиарейсов от города.](#2.3)\n",
    "\n",
    "#### [Часть 3. Общий вывод](#3)"
   ]
  },
  {
   "cell_type": "markdown",
   "metadata": {},
   "source": [
    "## Часть 1. Подготовка к исследованию и изучение общей информации <a id='1'></a>"
   ]
  },
  {
   "cell_type": "markdown",
   "metadata": {},
   "source": [
    "### 1.1 Импорт библиотек <a id='1.1'></a>"
   ]
  },
  {
   "cell_type": "code",
   "execution_count": 1,
   "metadata": {},
   "outputs": [],
   "source": [
    "import pandas as pd\n",
    "import numpy as np\n",
    "import seaborn as sns\n",
    "import matplotlib.pyplot as plt\n",
    "import requests\n",
    "from bs4 import BeautifulSoup"
   ]
  },
  {
   "cell_type": "markdown",
   "metadata": {},
   "source": [
    "### 1.2 Получение необходимых данных. <a id='1.2'></a>"
   ]
  },
  {
   "cell_type": "code",
   "execution_count": 6,
   "metadata": {},
   "outputs": [
    {
     "data": {
      "text/html": [
       "<div>\n",
       "<style scoped>\n",
       "    .dataframe tbody tr th:only-of-type {\n",
       "        vertical-align: middle;\n",
       "    }\n",
       "\n",
       "    .dataframe tbody tr th {\n",
       "        vertical-align: top;\n",
       "    }\n",
       "\n",
       "    .dataframe thead th {\n",
       "        text-align: right;\n",
       "    }\n",
       "</style>\n",
       "<table border=\"1\" class=\"dataframe\">\n",
       "  <thead>\n",
       "    <tr style=\"text-align: right;\">\n",
       "      <th></th>\n",
       "      <th>Название фестиваля</th>\n",
       "      <th>Место проведения</th>\n",
       "      <th>Дата проведения</th>\n",
       "    </tr>\n",
       "  </thead>\n",
       "  <tbody>\n",
       "    <tr>\n",
       "      <th>0</th>\n",
       "      <td>Музыкальный фестиваль «Усадьба Jazz»</td>\n",
       "      <td>Екатеринбург</td>\n",
       "      <td>01.07.2018</td>\n",
       "    </tr>\n",
       "    <tr>\n",
       "      <th>1</th>\n",
       "      <td>Фестиваль музыки и технологий Alfa Future People</td>\n",
       "      <td>Нижний Новгород</td>\n",
       "      <td>10.08.2018</td>\n",
       "    </tr>\n",
       "    <tr>\n",
       "      <th>2</th>\n",
       "      <td>Фестиваль еды «О, да! Еда!»</td>\n",
       "      <td>Санкт-Петербург</td>\n",
       "      <td>21.07.2018</td>\n",
       "    </tr>\n",
       "    <tr>\n",
       "      <th>3</th>\n",
       "      <td>Доброфест</td>\n",
       "      <td>Ярославль</td>\n",
       "      <td>29.07.2018</td>\n",
       "    </tr>\n",
       "    <tr>\n",
       "      <th>4</th>\n",
       "      <td>Park Live</td>\n",
       "      <td>Москва</td>\n",
       "      <td>28.07.2018</td>\n",
       "    </tr>\n",
       "    <tr>\n",
       "      <th>5</th>\n",
       "      <td>Пикник Афиши</td>\n",
       "      <td>Москва</td>\n",
       "      <td>04.08.2018</td>\n",
       "    </tr>\n",
       "    <tr>\n",
       "      <th>6</th>\n",
       "      <td>VK FEST</td>\n",
       "      <td>Санкт-Петербург</td>\n",
       "      <td>29.07.2018</td>\n",
       "    </tr>\n",
       "    <tr>\n",
       "      <th>7</th>\n",
       "      <td>Фестиваль «О, да! Еда!»</td>\n",
       "      <td>Иркутск</td>\n",
       "      <td>25.08.2018</td>\n",
       "    </tr>\n",
       "    <tr>\n",
       "      <th>8</th>\n",
       "      <td>Фестиваль «О, да! Еда!»</td>\n",
       "      <td>Владивосток</td>\n",
       "      <td>02.09.2018</td>\n",
       "    </tr>\n",
       "    <tr>\n",
       "      <th>9</th>\n",
       "      <td>Видфест</td>\n",
       "      <td>Москва</td>\n",
       "      <td>08.09.2018</td>\n",
       "    </tr>\n",
       "    <tr>\n",
       "      <th>10</th>\n",
       "      <td>«Нашествие 2018»</td>\n",
       "      <td>Тверь</td>\n",
       "      <td>05.08.2018</td>\n",
       "    </tr>\n",
       "  </tbody>\n",
       "</table>\n",
       "</div>"
      ],
      "text/plain": [
       "                                  Название фестиваля Место проведения  \\\n",
       "0               Музыкальный фестиваль «Усадьба Jazz»     Екатеринбург   \n",
       "1   Фестиваль музыки и технологий Alfa Future People  Нижний Новгород   \n",
       "2                        Фестиваль еды «О, да! Еда!»  Санкт-Петербург   \n",
       "3                                          Доброфест        Ярославль   \n",
       "4                                          Park Live           Москва   \n",
       "5                                       Пикник Афиши           Москва   \n",
       "6                                            VK FEST  Санкт-Петербург   \n",
       "7                            Фестиваль «О, да! Еда!»          Иркутск   \n",
       "8                            Фестиваль «О, да! Еда!»      Владивосток   \n",
       "9                                            Видфест           Москва   \n",
       "10                                  «Нашествие 2018»            Тверь   \n",
       "\n",
       "   Дата проведения  \n",
       "0       01.07.2018  \n",
       "1       10.08.2018  \n",
       "2       21.07.2018  \n",
       "3       29.07.2018  \n",
       "4       28.07.2018  \n",
       "5       04.08.2018  \n",
       "6       29.07.2018  \n",
       "7       25.08.2018  \n",
       "8       02.09.2018  \n",
       "9       08.09.2018  \n",
       "10      05.08.2018  "
      ]
     },
     "metadata": {},
     "output_type": "display_data"
    }
   ],
   "source": [
    "req = requests.get('https://code.s3.yandex.net/learning-materials/data-analyst/festival_news/index.html')\n",
    "soup = BeautifulSoup(req.text, 'lxml')\n",
    "\n",
    "table = soup.find('table',attrs={\"id\": \"best_festivals\"})\n",
    "heading_table = [] # Список, в котором будут храниться названия столбцов\n",
    "for row in table.find_all('th'):\n",
    "        heading_table.append(row.text)\n",
    "\n",
    "content=[] # Список, в котором будут храниться данные из таблицы\n",
    "for row in table.find_all('tr'): \n",
    "    if not row.find_all('th'): \n",
    "            content.append([element.text for element in row.find_all('td')])\n",
    "\n",
    "festivals = pd.DataFrame(content, columns=heading_table) \n",
    "display(festivals)"
   ]
  },
  {
   "cell_type": "markdown",
   "metadata": {},
   "source": [
    "### 1.2 Изучение общей информации о данных <a id='1.2'></a>"
   ]
  },
  {
   "cell_type": "code",
   "execution_count": 2,
   "metadata": {},
   "outputs": [
    {
     "name": "stdout",
     "output_type": "stream",
     "text": [
      "<class 'pandas.core.frame.DataFrame'>\n",
      "RangeIndex: 8 entries, 0 to 7\n",
      "Data columns (total 2 columns):\n",
      "model             8 non-null object\n",
      "flights_amount    8 non-null int64\n",
      "dtypes: int64(1), object(1)\n",
      "memory usage: 256.0+ bytes\n"
     ]
    }
   ],
   "source": [
    "models = pd.read_csv('/datasets/query_1.csv')\n",
    "models.info()"
   ]
  },
  {
   "cell_type": "code",
   "execution_count": 3,
   "metadata": {},
   "outputs": [
    {
     "data": {
      "text/html": [
       "<div>\n",
       "<style scoped>\n",
       "    .dataframe tbody tr th:only-of-type {\n",
       "        vertical-align: middle;\n",
       "    }\n",
       "\n",
       "    .dataframe tbody tr th {\n",
       "        vertical-align: top;\n",
       "    }\n",
       "\n",
       "    .dataframe thead th {\n",
       "        text-align: right;\n",
       "    }\n",
       "</style>\n",
       "<table border=\"1\" class=\"dataframe\">\n",
       "  <thead>\n",
       "    <tr style=\"text-align: right;\">\n",
       "      <th></th>\n",
       "      <th>model</th>\n",
       "      <th>flights_amount</th>\n",
       "    </tr>\n",
       "  </thead>\n",
       "  <tbody>\n",
       "    <tr>\n",
       "      <td>0</td>\n",
       "      <td>Airbus A319-100</td>\n",
       "      <td>607</td>\n",
       "    </tr>\n",
       "    <tr>\n",
       "      <td>1</td>\n",
       "      <td>Airbus A321-200</td>\n",
       "      <td>960</td>\n",
       "    </tr>\n",
       "    <tr>\n",
       "      <td>2</td>\n",
       "      <td>Boeing 737-300</td>\n",
       "      <td>630</td>\n",
       "    </tr>\n",
       "    <tr>\n",
       "      <td>3</td>\n",
       "      <td>Boeing 767-300</td>\n",
       "      <td>600</td>\n",
       "    </tr>\n",
       "    <tr>\n",
       "      <td>4</td>\n",
       "      <td>Boeing 777-300</td>\n",
       "      <td>300</td>\n",
       "    </tr>\n",
       "    <tr>\n",
       "      <td>5</td>\n",
       "      <td>Bombardier CRJ-200</td>\n",
       "      <td>4446</td>\n",
       "    </tr>\n",
       "    <tr>\n",
       "      <td>6</td>\n",
       "      <td>Cessna 208 Caravan</td>\n",
       "      <td>4557</td>\n",
       "    </tr>\n",
       "    <tr>\n",
       "      <td>7</td>\n",
       "      <td>Sukhoi SuperJet-100</td>\n",
       "      <td>4185</td>\n",
       "    </tr>\n",
       "  </tbody>\n",
       "</table>\n",
       "</div>"
      ],
      "text/plain": [
       "                 model  flights_amount\n",
       "0      Airbus A319-100             607\n",
       "1      Airbus A321-200             960\n",
       "2       Boeing 737-300             630\n",
       "3       Boeing 767-300             600\n",
       "4       Boeing 777-300             300\n",
       "5   Bombardier CRJ-200            4446\n",
       "6   Cessna 208 Caravan            4557\n",
       "7  Sukhoi SuperJet-100            4185"
      ]
     },
     "metadata": {},
     "output_type": "display_data"
    }
   ],
   "source": [
    "display(models)"
   ]
  },
  {
   "cell_type": "markdown",
   "metadata": {},
   "source": [
    "В этой таблице с данными все в порядке."
   ]
  },
  {
   "cell_type": "code",
   "execution_count": 4,
   "metadata": {},
   "outputs": [
    {
     "name": "stdout",
     "output_type": "stream",
     "text": [
      "<class 'pandas.core.frame.DataFrame'>\n",
      "RangeIndex: 101 entries, 0 to 100\n",
      "Data columns (total 2 columns):\n",
      "city               101 non-null object\n",
      "average_flights    101 non-null float64\n",
      "dtypes: float64(1), object(1)\n",
      "memory usage: 1.7+ KB\n"
     ]
    }
   ],
   "source": [
    "cities = pd.read_csv('/datasets/query_3.csv')\n",
    "cities.info()"
   ]
  },
  {
   "cell_type": "code",
   "execution_count": 5,
   "metadata": {},
   "outputs": [
    {
     "data": {
      "text/html": [
       "<div>\n",
       "<style scoped>\n",
       "    .dataframe tbody tr th:only-of-type {\n",
       "        vertical-align: middle;\n",
       "    }\n",
       "\n",
       "    .dataframe tbody tr th {\n",
       "        vertical-align: top;\n",
       "    }\n",
       "\n",
       "    .dataframe thead th {\n",
       "        text-align: right;\n",
       "    }\n",
       "</style>\n",
       "<table border=\"1\" class=\"dataframe\">\n",
       "  <thead>\n",
       "    <tr style=\"text-align: right;\">\n",
       "      <th></th>\n",
       "      <th>average_flights</th>\n",
       "    </tr>\n",
       "  </thead>\n",
       "  <tbody>\n",
       "    <tr>\n",
       "      <td>count</td>\n",
       "      <td>101.000000</td>\n",
       "    </tr>\n",
       "    <tr>\n",
       "      <td>mean</td>\n",
       "      <td>5.494189</td>\n",
       "    </tr>\n",
       "    <tr>\n",
       "      <td>std</td>\n",
       "      <td>13.119790</td>\n",
       "    </tr>\n",
       "    <tr>\n",
       "      <td>min</td>\n",
       "      <td>1.000000</td>\n",
       "    </tr>\n",
       "    <tr>\n",
       "      <td>25%</td>\n",
       "      <td>2.000000</td>\n",
       "    </tr>\n",
       "    <tr>\n",
       "      <td>50%</td>\n",
       "      <td>3.000000</td>\n",
       "    </tr>\n",
       "    <tr>\n",
       "      <td>75%</td>\n",
       "      <td>5.870968</td>\n",
       "    </tr>\n",
       "    <tr>\n",
       "      <td>max</td>\n",
       "      <td>129.774194</td>\n",
       "    </tr>\n",
       "  </tbody>\n",
       "</table>\n",
       "</div>"
      ],
      "text/plain": [
       "       average_flights\n",
       "count       101.000000\n",
       "mean          5.494189\n",
       "std          13.119790\n",
       "min           1.000000\n",
       "25%           2.000000\n",
       "50%           3.000000\n",
       "75%           5.870968\n",
       "max         129.774194"
      ]
     },
     "execution_count": 5,
     "metadata": {},
     "output_type": "execute_result"
    }
   ],
   "source": [
    "cities.describe()"
   ]
  },
  {
   "cell_type": "code",
   "execution_count": 6,
   "metadata": {},
   "outputs": [
    {
     "name": "stdout",
     "output_type": "stream",
     "text": [
      "['Абакан' 'Анадырь' 'Анапа' 'Архангельск' 'Астрахань' 'Барнаул' 'Белгород'\n",
      " 'Белоярский' 'Благовещенск' 'Братск' 'Брянск' 'Бугульма' 'Владивосток'\n",
      " 'Владикавказ' 'Волгоград' 'Воркута' 'Воронеж' 'Геленджик' 'Горно-Алтайск'\n",
      " 'Грозный' 'Екатеринбург' 'Иваново' 'Ижевск' 'Иркутск' 'Йошкар-Ола'\n",
      " 'Казань' 'Калининград' 'Калуга' 'Кемерово' 'Киров' 'Когалым'\n",
      " 'Комсомольск-на-Амуре' 'Краснодар' 'Красноярск' 'Курган' 'Курск' 'Кызыл'\n",
      " 'Липецк' 'Магадан' 'Магнитогорск' 'Махачкала' 'Минеральные Воды' 'Мирный'\n",
      " 'Москва' 'Мурманск' 'Надым' 'Нальчик' 'Нарьян-Мар' 'Нерюнгри'\n",
      " 'Нефтеюганск' 'Нижневартовск' 'Нижнекамск' 'Нижний Новгород'\n",
      " 'Новокузнецк' 'Новосибирск' 'Новый Уренгой' 'Норильск' 'Ноябрьск'\n",
      " 'Нягань' 'Омск' 'Оренбург' 'Орск' 'Пенза' 'Пермь' 'Петрозаводск'\n",
      " 'Петропавловск-Камчатский' 'Псков' 'Ростов-на-Дону' 'Салехард' 'Самара'\n",
      " 'Санкт-Петербург' 'Саранск' 'Саратов' 'Советский' 'Сочи' 'Ставрополь'\n",
      " 'Стрежевой' 'Сургут' 'Сыктывкар' 'Тамбов' 'Томск' 'Тюмень' 'Удачный'\n",
      " 'Улан-Удэ' 'Ульяновск' 'Урай' 'Усинск' 'Усть-Илимск' 'Усть-Кут' 'Уфа'\n",
      " 'Ухта' 'Хабаровск' 'Ханты-Мансийск' 'Чебоксары' 'Челябинск' 'Череповец'\n",
      " 'Чита' 'Элиста' 'Южно-Сахалинск' 'Якутск' 'Ярославль']\n"
     ]
    }
   ],
   "source": [
    "print(cities['city'].sort_values().unique())"
   ]
  },
  {
   "cell_type": "markdown",
   "metadata": {},
   "source": [
    "В этой таблице с данными тоже все в порядке."
   ]
  },
  {
   "cell_type": "markdown",
   "metadata": {},
   "source": [
    "## Часть 2. Исследовательский анализ данных. <a id='2'></a>"
   ]
  },
  {
   "cell_type": "markdown",
   "metadata": {},
   "source": [
    "### 2.1 Топ 10 городов по количеству авиарейсов. <a id='2.1'></a>"
   ]
  },
  {
   "cell_type": "code",
   "execution_count": 7,
   "metadata": {},
   "outputs": [
    {
     "data": {
      "text/html": [
       "<div>\n",
       "<style scoped>\n",
       "    .dataframe tbody tr th:only-of-type {\n",
       "        vertical-align: middle;\n",
       "    }\n",
       "\n",
       "    .dataframe tbody tr th {\n",
       "        vertical-align: top;\n",
       "    }\n",
       "\n",
       "    .dataframe thead th {\n",
       "        text-align: right;\n",
       "    }\n",
       "</style>\n",
       "<table border=\"1\" class=\"dataframe\">\n",
       "  <thead>\n",
       "    <tr style=\"text-align: right;\">\n",
       "      <th></th>\n",
       "      <th>city</th>\n",
       "      <th>average_flights</th>\n",
       "    </tr>\n",
       "  </thead>\n",
       "  <tbody>\n",
       "    <tr>\n",
       "      <td>43</td>\n",
       "      <td>Москва</td>\n",
       "      <td>129.774194</td>\n",
       "    </tr>\n",
       "    <tr>\n",
       "      <td>70</td>\n",
       "      <td>Санкт-Петербург</td>\n",
       "      <td>31.161290</td>\n",
       "    </tr>\n",
       "    <tr>\n",
       "      <td>54</td>\n",
       "      <td>Новосибирск</td>\n",
       "      <td>17.322581</td>\n",
       "    </tr>\n",
       "    <tr>\n",
       "      <td>33</td>\n",
       "      <td>Красноярск</td>\n",
       "      <td>11.580645</td>\n",
       "    </tr>\n",
       "    <tr>\n",
       "      <td>20</td>\n",
       "      <td>Екатеринбург</td>\n",
       "      <td>11.322581</td>\n",
       "    </tr>\n",
       "    <tr>\n",
       "      <td>67</td>\n",
       "      <td>Ростов-на-Дону</td>\n",
       "      <td>10.193548</td>\n",
       "    </tr>\n",
       "    <tr>\n",
       "      <td>63</td>\n",
       "      <td>Пермь</td>\n",
       "      <td>10.129032</td>\n",
       "    </tr>\n",
       "    <tr>\n",
       "      <td>10</td>\n",
       "      <td>Брянск</td>\n",
       "      <td>10.000000</td>\n",
       "    </tr>\n",
       "    <tr>\n",
       "      <td>74</td>\n",
       "      <td>Сочи</td>\n",
       "      <td>9.612903</td>\n",
       "    </tr>\n",
       "    <tr>\n",
       "      <td>84</td>\n",
       "      <td>Ульяновск</td>\n",
       "      <td>9.580645</td>\n",
       "    </tr>\n",
       "  </tbody>\n",
       "</table>\n",
       "</div>"
      ],
      "text/plain": [
       "               city  average_flights\n",
       "43           Москва       129.774194\n",
       "70  Санкт-Петербург        31.161290\n",
       "54      Новосибирск        17.322581\n",
       "33       Красноярск        11.580645\n",
       "20     Екатеринбург        11.322581\n",
       "67   Ростов-на-Дону        10.193548\n",
       "63            Пермь        10.129032\n",
       "10           Брянск        10.000000\n",
       "74             Сочи         9.612903\n",
       "84        Ульяновск         9.580645"
      ]
     },
     "metadata": {},
     "output_type": "display_data"
    }
   ],
   "source": [
    "cities = cities.sort_values(by='average_flights', ascending=False)\n",
    "top_cities = cities.head(10)\n",
    "display(top_cities)"
   ]
  },
  {
   "cell_type": "markdown",
   "metadata": {},
   "source": [
    "### 2.2 Зависимость количества авиарейсов от модели самолета. <a id='2.2'></a>"
   ]
  },
  {
   "cell_type": "code",
   "execution_count": 8,
   "metadata": {},
   "outputs": [
    {
     "data": {
      "image/png": "[encoded data removed]",
      "text/plain": [
       "<Figure size 1224x360 with 1 Axes>"
      ]
     },
     "metadata": {
      "needs_background": "light"
     },
     "output_type": "display_data"
    }
   ],
   "source": [
    "models = models.sort_values(by='flights_amount', ascending=False)\n",
    "\n",
    "plt.rcParams['figure.figsize']=(17, 5)\n",
    "plt.bar(height=models['flights_amount'], x=models['model'])\n",
    "plt.xlabel('Модель')\n",
    "plt.ylabel('Количество авиарейсов')\n",
    "plt.title('Распределение количества авиарейсов по модели самолета')\n",
    "plt.grid(True)\n",
    "plt.show()"
   ]
  },
  {
   "cell_type": "markdown",
   "metadata": {},
   "source": [
    "### Вывод \n",
    "1. Во внутренних авиаперевозках  доминируют самолеты с максимальным количеством пассажирских мест меньше 100.\n",
    "2. Среди моделей самолетов нет сильной конкуренции. Каждая из 3 доминирующих моделей разработана для различных задач."
   ]
  },
  {
   "cell_type": "markdown",
   "metadata": {},
   "source": [
    "### 2.3 Зависимость количества авиарейсов от города. <a id='2.3'></a>"
   ]
  },
  {
   "cell_type": "code",
   "execution_count": 9,
   "metadata": {},
   "outputs": [
    {
     "data": {
      "image/png": "[encoded data removed]",
      "text/plain": [
       "<Figure size 1224x360 with 1 Axes>"
      ]
     },
     "metadata": {
      "needs_background": "light"
     },
     "output_type": "display_data"
    }
   ],
   "source": [
    "names = []\n",
    "for i in range(101):\n",
    "    names.append('')\n",
    "\n",
    "plt.bar(height=cities['average_flights'], x=cities['city'], tick_label = names)\n",
    "plt.xlabel('Город')\n",
    "plt.ylabel('Количество авиарейсов')\n",
    "plt.title('Распределение количества авиарейсов по городам')\n",
    "plt.show()"
   ]
  },
  {
   "cell_type": "code",
   "execution_count": 10,
   "metadata": {},
   "outputs": [
    {
     "data": {
      "image/png": "[encoded data removed]",
      "text/plain": [
       "<Figure size 1224x360 with 1 Axes>"
      ]
     },
     "metadata": {
      "needs_background": "light"
     },
     "output_type": "display_data"
    }
   ],
   "source": [
    "plt.bar(height=top_cities['average_flights'], x=top_cities['city'])\n",
    "plt.xlabel('Город')\n",
    "plt.ylabel('Количество авиарейсов')\n",
    "plt.title('Распределение количества авиарейсов по городам')\n",
    "plt.show()"
   ]
  },
  {
   "cell_type": "markdown",
   "metadata": {},
   "source": [
    "### Вывод:\n",
    "Количество авиарейсов в Москве значительно больше, чем в остальных городах. Также выделяются Санкт-Петербург и Новосибирск."
   ]
  },
  {
   "cell_type": "markdown",
   "metadata": {},
   "source": [
    "## Часть 3. Вывод. <a id='3'></a>"
   ]
  },
  {
   "cell_type": "markdown",
   "metadata": {},
   "source": [
    "В ходе исследования я:\n",
    "1. Проверил на корректность полученную ранее информацию.\n",
    "2. Выбрал топ-10 городов по количеству рейсов.\n",
    "3. Изучил зависимость количества рейсов от города и модели самолета.\n",
    "\n",
    "В результате исследования я пришел к следующим выводам:\n",
    "1. Во внутренних авиаперевозках доминируют самолеты с максимальным количеством пассажирских мест меньше 100.\n",
    "2. Среди моделей самолетов нет сильной конкуренции. Каждая из 3 доминирующих моделей разработана для различных задач.\n",
    "3. Количество авиарейсов в Москве значительно больше, чем в остальных городах. Также выделяются Санкт-Петербург и Новосибирск."
   ]
  },
  {
   "cell_type": "code",
   "execution_count": null,
   "metadata": {},
   "outputs": [],
   "source": []
  }
 ],
 "metadata": {
  "kernelspec": {
   "display_name": "Python 3",
   "language": "python",
   "name": "python3"
  },
  "language_info": {
   "codemirror_mode": {
    "name": "ipython",
    "version": 3
   },
   "file_extension": ".py",
   "mimetype": "text/x-python",
   "name": "python",
   "nbconvert_exporter": "python",
   "pygments_lexer": "ipython3",
   "version": "3.8.3"
  },
  "toc": {
   "base_numbering": 1,
   "nav_menu": {},
   "number_sections": true,
   "sideBar": true,
   "skip_h1_title": true,
   "title_cell": "Table of Contents",
   "title_sidebar": "Contents",
   "toc_cell": false,
   "toc_position": {},
   "toc_section_display": true,
   "toc_window_display": false
  }
 },
 "nbformat": 4,
 "nbformat_minor": 4
}
